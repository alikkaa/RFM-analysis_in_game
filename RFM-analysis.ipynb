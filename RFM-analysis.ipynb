{
 "cells": [
  {
   "cell_type": "markdown",
   "id": "d101271e",
   "metadata": {},
   "source": [
    "## Task 1. Carry out RFM analysis (Practical task)"
   ]
  },
  {
   "cell_type": "code",
   "execution_count": 1,
   "id": "ea652201",
   "metadata": {},
   "outputs": [],
   "source": [
    "import pandas as pd\n",
    "import numpy as np"
   ]
  },
  {
   "cell_type": "code",
   "execution_count": 2,
   "id": "a8d9c324",
   "metadata": {},
   "outputs": [],
   "source": [
    "orders = pd.read_csv('Purchases.csv', sep=';')"
   ]
  },
  {
   "cell_type": "code",
   "execution_count": 3,
   "id": "7fb5736b",
   "metadata": {},
   "outputs": [
    {
     "data": {
      "text/html": [
       "<div>\n",
       "<style scoped>\n",
       "    .dataframe tbody tr th:only-of-type {\n",
       "        vertical-align: middle;\n",
       "    }\n",
       "\n",
       "    .dataframe tbody tr th {\n",
       "        vertical-align: top;\n",
       "    }\n",
       "\n",
       "    .dataframe thead th {\n",
       "        text-align: right;\n",
       "    }\n",
       "</style>\n",
       "<table border=\"1\" class=\"dataframe\">\n",
       "  <thead>\n",
       "    <tr style=\"text-align: right;\">\n",
       "      <th></th>\n",
       "      <th>user_id_1</th>\n",
       "      <th>Event Time</th>\n",
       "      <th>Event Name</th>\n",
       "      <th>Event Revenue USD</th>\n",
       "    </tr>\n",
       "  </thead>\n",
       "  <tbody>\n",
       "    <tr>\n",
       "      <th>0</th>\n",
       "      <td>5308</td>\n",
       "      <td>12.12.2018</td>\n",
       "      <td>af_purchase</td>\n",
       "      <td>0.762492</td>\n",
       "    </tr>\n",
       "    <tr>\n",
       "      <th>1</th>\n",
       "      <td>1314</td>\n",
       "      <td>12.12.2018</td>\n",
       "      <td>af_purchase</td>\n",
       "      <td>0.265333</td>\n",
       "    </tr>\n",
       "    <tr>\n",
       "      <th>2</th>\n",
       "      <td>3109</td>\n",
       "      <td>12.12.2018</td>\n",
       "      <td>af_purchase</td>\n",
       "      <td>1.332000</td>\n",
       "    </tr>\n",
       "    <tr>\n",
       "      <th>3</th>\n",
       "      <td>6288</td>\n",
       "      <td>12.12.2018</td>\n",
       "      <td>af_purchase</td>\n",
       "      <td>0.311221</td>\n",
       "    </tr>\n",
       "    <tr>\n",
       "      <th>4</th>\n",
       "      <td>1842</td>\n",
       "      <td>12.12.2018</td>\n",
       "      <td>af_purchase</td>\n",
       "      <td>1.514547</td>\n",
       "    </tr>\n",
       "  </tbody>\n",
       "</table>\n",
       "</div>"
      ],
      "text/plain": [
       "   user_id_1  Event Time   Event Name  Event Revenue USD\n",
       "0       5308  12.12.2018  af_purchase           0.762492\n",
       "1       1314  12.12.2018  af_purchase           0.265333\n",
       "2       3109  12.12.2018  af_purchase           1.332000\n",
       "3       6288  12.12.2018  af_purchase           0.311221\n",
       "4       1842  12.12.2018  af_purchase           1.514547"
      ]
     },
     "execution_count": 3,
     "metadata": {},
     "output_type": "execute_result"
    }
   ],
   "source": [
    "orders.head()"
   ]
  },
  {
   "cell_type": "code",
   "execution_count": 4,
   "id": "8b06dafe",
   "metadata": {},
   "outputs": [
    {
     "data": {
      "text/plain": [
       "user_id_1              int64\n",
       "Event Time            object\n",
       "Event Name            object\n",
       "Event Revenue USD    float64\n",
       "dtype: object"
      ]
     },
     "execution_count": 4,
     "metadata": {},
     "output_type": "execute_result"
    }
   ],
   "source": [
    "orders.dtypes"
   ]
  },
  {
   "cell_type": "code",
   "execution_count": 5,
   "id": "496a4893",
   "metadata": {},
   "outputs": [],
   "source": [
    "orders['Event Name'] = orders['Event Name'].astype('str')\n",
    "orders['Event Time'] = pd.to_datetime(orders['Event Time'])"
   ]
  },
  {
   "cell_type": "code",
   "execution_count": 6,
   "id": "827de58a",
   "metadata": {
    "scrolled": true
   },
   "outputs": [
    {
     "data": {
      "text/plain": [
       "user_id_1                     int64\n",
       "Event Time           datetime64[ns]\n",
       "Event Name                   object\n",
       "Event Revenue USD           float64\n",
       "dtype: object"
      ]
     },
     "execution_count": 6,
     "metadata": {},
     "output_type": "execute_result"
    }
   ],
   "source": [
    "orders.dtypes"
   ]
  },
  {
   "cell_type": "code",
   "execution_count": 7,
   "id": "224156aa",
   "metadata": {},
   "outputs": [
    {
     "data": {
      "text/plain": [
       "Timestamp('2019-12-06 00:00:00')"
      ]
     },
     "execution_count": 7,
     "metadata": {},
     "output_type": "execute_result"
    }
   ],
   "source": [
    "last_date = orders[\"Event Time\"].max()\n",
    "last_date"
   ]
  },
  {
   "cell_type": "markdown",
   "id": "e97ccd93",
   "metadata": {},
   "source": [
    "### Расчет Recency, Frequency, Monetary Value"
   ]
  },
  {
   "cell_type": "code",
   "execution_count": 8,
   "id": "ee5effd6",
   "metadata": {},
   "outputs": [],
   "source": [
    "rfm_table = orders.groupby('user_id_1').agg({'Event Time': lambda x: (last_date - x.max()).days,\n",
    "                                               # Recency #Number of days since last order\n",
    "                                           'Event Name': lambda x: len(x),\n",
    "                                               # Frequency #Number of events\n",
    "                                           'Event Revenue USD': lambda x: x.sum()})\n",
    "                                               # Monetary Value #Total amount for all events\n",
    "\n",
    "rfm_table['Event Time'] = rfm_table['Event Time'].astype(int)\n",
    "rfm_table.rename(columns={'Event Time': 'recency',\n",
    "                         'Event Name': 'frequency',\n",
    "                         'Event Revenue USD': 'monetary_value'}, inplace=True)"
   ]
  },
  {
   "cell_type": "code",
   "execution_count": 9,
   "id": "c7cd7470",
   "metadata": {
    "scrolled": false
   },
   "outputs": [
    {
     "data": {
      "text/html": [
       "<div>\n",
       "<style scoped>\n",
       "    .dataframe tbody tr th:only-of-type {\n",
       "        vertical-align: middle;\n",
       "    }\n",
       "\n",
       "    .dataframe tbody tr th {\n",
       "        vertical-align: top;\n",
       "    }\n",
       "\n",
       "    .dataframe thead th {\n",
       "        text-align: right;\n",
       "    }\n",
       "</style>\n",
       "<table border=\"1\" class=\"dataframe\">\n",
       "  <thead>\n",
       "    <tr style=\"text-align: right;\">\n",
       "      <th></th>\n",
       "      <th>recency</th>\n",
       "      <th>frequency</th>\n",
       "      <th>monetary_value</th>\n",
       "    </tr>\n",
       "    <tr>\n",
       "      <th>user_id_1</th>\n",
       "      <th></th>\n",
       "      <th></th>\n",
       "      <th></th>\n",
       "    </tr>\n",
       "  </thead>\n",
       "  <tbody>\n",
       "    <tr>\n",
       "      <th>1</th>\n",
       "      <td>336</td>\n",
       "      <td>18</td>\n",
       "      <td>16.572877</td>\n",
       "    </tr>\n",
       "    <tr>\n",
       "      <th>2</th>\n",
       "      <td>190</td>\n",
       "      <td>12</td>\n",
       "      <td>9.621055</td>\n",
       "    </tr>\n",
       "    <tr>\n",
       "      <th>3</th>\n",
       "      <td>236</td>\n",
       "      <td>26</td>\n",
       "      <td>23.467281</td>\n",
       "    </tr>\n",
       "    <tr>\n",
       "      <th>4</th>\n",
       "      <td>275</td>\n",
       "      <td>26</td>\n",
       "      <td>18.621195</td>\n",
       "    </tr>\n",
       "    <tr>\n",
       "      <th>5</th>\n",
       "      <td>246</td>\n",
       "      <td>21</td>\n",
       "      <td>18.836892</td>\n",
       "    </tr>\n",
       "  </tbody>\n",
       "</table>\n",
       "</div>"
      ],
      "text/plain": [
       "           recency  frequency  monetary_value\n",
       "user_id_1                                    \n",
       "1              336         18       16.572877\n",
       "2              190         12        9.621055\n",
       "3              236         26       23.467281\n",
       "4              275         26       18.621195\n",
       "5              246         21       18.836892"
      ]
     },
     "execution_count": 9,
     "metadata": {},
     "output_type": "execute_result"
    }
   ],
   "source": [
    "rfm_table.head()"
   ]
  },
  {
   "cell_type": "markdown",
   "id": "9dc56fcb",
   "metadata": {},
   "source": [
    "### Dividing clients into segments (as specified in the task)"
   ]
  },
  {
   "cell_type": "code",
   "execution_count": 10,
   "id": "ce222f61",
   "metadata": {},
   "outputs": [],
   "source": [
    "recency_labels = ['recently_paid', 'paid_a_while_ago', 'paid_long_ago']\n",
    "recency_bins = [0, 10, 30, np.inf]\n",
    "rfm_table['RecencySegment'] = pd.cut(rfm_table['recency'], bins=recency_bins, labels=recency_labels)\n",
    "\n",
    "frequency_labels = ['only_1_payment', 'pay_rarely', 'pay_sometimes', 'pay_frequently']\n",
    "frequency_bins = [1, 2, 5, 20, np.inf]\n",
    "rfm_table['FrequencySegment'] = pd.cut(rfm_table['frequency'], bins=frequency_bins, labels=frequency_labels)\n",
    "\n",
    "monetary_labels = ['minnows', 'dolphins', 'whales', 'grand_whales']\n",
    "monetary_bins = [0, 20, 100, 500, np.inf]\n",
    "rfm_table['MonetarySegment'] = pd.cut(rfm_table['monetary_value'], bins=monetary_bins, labels=monetary_labels)"
   ]
  },
  {
   "cell_type": "code",
   "execution_count": 11,
   "id": "4ca3b39e",
   "metadata": {
    "scrolled": false
   },
   "outputs": [
    {
     "data": {
      "text/html": [
       "<div>\n",
       "<style scoped>\n",
       "    .dataframe tbody tr th:only-of-type {\n",
       "        vertical-align: middle;\n",
       "    }\n",
       "\n",
       "    .dataframe tbody tr th {\n",
       "        vertical-align: top;\n",
       "    }\n",
       "\n",
       "    .dataframe thead th {\n",
       "        text-align: right;\n",
       "    }\n",
       "</style>\n",
       "<table border=\"1\" class=\"dataframe\">\n",
       "  <thead>\n",
       "    <tr style=\"text-align: right;\">\n",
       "      <th></th>\n",
       "      <th>recency</th>\n",
       "      <th>frequency</th>\n",
       "      <th>monetary_value</th>\n",
       "      <th>RecencySegment</th>\n",
       "      <th>FrequencySegment</th>\n",
       "      <th>MonetarySegment</th>\n",
       "    </tr>\n",
       "    <tr>\n",
       "      <th>user_id_1</th>\n",
       "      <th></th>\n",
       "      <th></th>\n",
       "      <th></th>\n",
       "      <th></th>\n",
       "      <th></th>\n",
       "      <th></th>\n",
       "    </tr>\n",
       "  </thead>\n",
       "  <tbody>\n",
       "    <tr>\n",
       "      <th>1</th>\n",
       "      <td>336</td>\n",
       "      <td>18</td>\n",
       "      <td>16.572877</td>\n",
       "      <td>paid_long_ago</td>\n",
       "      <td>pay_sometimes</td>\n",
       "      <td>minnows</td>\n",
       "    </tr>\n",
       "    <tr>\n",
       "      <th>2</th>\n",
       "      <td>190</td>\n",
       "      <td>12</td>\n",
       "      <td>9.621055</td>\n",
       "      <td>paid_long_ago</td>\n",
       "      <td>pay_sometimes</td>\n",
       "      <td>minnows</td>\n",
       "    </tr>\n",
       "    <tr>\n",
       "      <th>3</th>\n",
       "      <td>236</td>\n",
       "      <td>26</td>\n",
       "      <td>23.467281</td>\n",
       "      <td>paid_long_ago</td>\n",
       "      <td>pay_frequently</td>\n",
       "      <td>dolphins</td>\n",
       "    </tr>\n",
       "    <tr>\n",
       "      <th>4</th>\n",
       "      <td>275</td>\n",
       "      <td>26</td>\n",
       "      <td>18.621195</td>\n",
       "      <td>paid_long_ago</td>\n",
       "      <td>pay_frequently</td>\n",
       "      <td>minnows</td>\n",
       "    </tr>\n",
       "    <tr>\n",
       "      <th>5</th>\n",
       "      <td>246</td>\n",
       "      <td>21</td>\n",
       "      <td>18.836892</td>\n",
       "      <td>paid_long_ago</td>\n",
       "      <td>pay_frequently</td>\n",
       "      <td>minnows</td>\n",
       "    </tr>\n",
       "  </tbody>\n",
       "</table>\n",
       "</div>"
      ],
      "text/plain": [
       "           recency  frequency  monetary_value RecencySegment FrequencySegment  \\\n",
       "user_id_1                                                                       \n",
       "1              336         18       16.572877  paid_long_ago    pay_sometimes   \n",
       "2              190         12        9.621055  paid_long_ago    pay_sometimes   \n",
       "3              236         26       23.467281  paid_long_ago   pay_frequently   \n",
       "4              275         26       18.621195  paid_long_ago   pay_frequently   \n",
       "5              246         21       18.836892  paid_long_ago   pay_frequently   \n",
       "\n",
       "          MonetarySegment  \n",
       "user_id_1                  \n",
       "1                 minnows  \n",
       "2                 minnows  \n",
       "3                dolphins  \n",
       "4                 minnows  \n",
       "5                 minnows  "
      ]
     },
     "execution_count": 11,
     "metadata": {},
     "output_type": "execute_result"
    }
   ],
   "source": [
    "rfm_table.head()"
   ]
  },
  {
   "cell_type": "markdown",
   "id": "229835c1",
   "metadata": {},
   "source": [
    "### Create a new column with a combination of RFM categories"
   ]
  },
  {
   "cell_type": "code",
   "execution_count": 12,
   "id": "a11038c0",
   "metadata": {
    "scrolled": true
   },
   "outputs": [],
   "source": [
    "rfm_table['RFM'] = rfm_table['RecencySegment'].astype('str') + ' / ' + rfm_table['FrequencySegment'].astype('str') \\\n",
    "                                                        + ' / ' + rfm_table['MonetarySegment'].astype('str')"
   ]
  },
  {
   "cell_type": "code",
   "execution_count": 13,
   "id": "f3e66bea",
   "metadata": {
    "scrolled": true
   },
   "outputs": [
    {
     "data": {
      "text/html": [
       "<div>\n",
       "<style scoped>\n",
       "    .dataframe tbody tr th:only-of-type {\n",
       "        vertical-align: middle;\n",
       "    }\n",
       "\n",
       "    .dataframe tbody tr th {\n",
       "        vertical-align: top;\n",
       "    }\n",
       "\n",
       "    .dataframe thead th {\n",
       "        text-align: right;\n",
       "    }\n",
       "</style>\n",
       "<table border=\"1\" class=\"dataframe\">\n",
       "  <thead>\n",
       "    <tr style=\"text-align: right;\">\n",
       "      <th></th>\n",
       "      <th>recency</th>\n",
       "      <th>frequency</th>\n",
       "      <th>monetary_value</th>\n",
       "      <th>RecencySegment</th>\n",
       "      <th>FrequencySegment</th>\n",
       "      <th>MonetarySegment</th>\n",
       "      <th>RFM</th>\n",
       "    </tr>\n",
       "    <tr>\n",
       "      <th>user_id_1</th>\n",
       "      <th></th>\n",
       "      <th></th>\n",
       "      <th></th>\n",
       "      <th></th>\n",
       "      <th></th>\n",
       "      <th></th>\n",
       "      <th></th>\n",
       "    </tr>\n",
       "  </thead>\n",
       "  <tbody>\n",
       "    <tr>\n",
       "      <th>1</th>\n",
       "      <td>336</td>\n",
       "      <td>18</td>\n",
       "      <td>16.572877</td>\n",
       "      <td>paid_long_ago</td>\n",
       "      <td>pay_sometimes</td>\n",
       "      <td>minnows</td>\n",
       "      <td>paid_long_ago / pay_sometimes / minnows</td>\n",
       "    </tr>\n",
       "    <tr>\n",
       "      <th>2</th>\n",
       "      <td>190</td>\n",
       "      <td>12</td>\n",
       "      <td>9.621055</td>\n",
       "      <td>paid_long_ago</td>\n",
       "      <td>pay_sometimes</td>\n",
       "      <td>minnows</td>\n",
       "      <td>paid_long_ago / pay_sometimes / minnows</td>\n",
       "    </tr>\n",
       "    <tr>\n",
       "      <th>3</th>\n",
       "      <td>236</td>\n",
       "      <td>26</td>\n",
       "      <td>23.467281</td>\n",
       "      <td>paid_long_ago</td>\n",
       "      <td>pay_frequently</td>\n",
       "      <td>dolphins</td>\n",
       "      <td>paid_long_ago / pay_frequently / dolphins</td>\n",
       "    </tr>\n",
       "    <tr>\n",
       "      <th>4</th>\n",
       "      <td>275</td>\n",
       "      <td>26</td>\n",
       "      <td>18.621195</td>\n",
       "      <td>paid_long_ago</td>\n",
       "      <td>pay_frequently</td>\n",
       "      <td>minnows</td>\n",
       "      <td>paid_long_ago / pay_frequently / minnows</td>\n",
       "    </tr>\n",
       "    <tr>\n",
       "      <th>5</th>\n",
       "      <td>246</td>\n",
       "      <td>21</td>\n",
       "      <td>18.836892</td>\n",
       "      <td>paid_long_ago</td>\n",
       "      <td>pay_frequently</td>\n",
       "      <td>minnows</td>\n",
       "      <td>paid_long_ago / pay_frequently / minnows</td>\n",
       "    </tr>\n",
       "  </tbody>\n",
       "</table>\n",
       "</div>"
      ],
      "text/plain": [
       "           recency  frequency  monetary_value RecencySegment FrequencySegment  \\\n",
       "user_id_1                                                                       \n",
       "1              336         18       16.572877  paid_long_ago    pay_sometimes   \n",
       "2              190         12        9.621055  paid_long_ago    pay_sometimes   \n",
       "3              236         26       23.467281  paid_long_ago   pay_frequently   \n",
       "4              275         26       18.621195  paid_long_ago   pay_frequently   \n",
       "5              246         21       18.836892  paid_long_ago   pay_frequently   \n",
       "\n",
       "          MonetarySegment                                        RFM  \n",
       "user_id_1                                                             \n",
       "1                 minnows    paid_long_ago / pay_sometimes / minnows  \n",
       "2                 minnows    paid_long_ago / pay_sometimes / minnows  \n",
       "3                dolphins  paid_long_ago / pay_frequently / dolphins  \n",
       "4                 minnows   paid_long_ago / pay_frequently / minnows  \n",
       "5                 minnows   paid_long_ago / pay_frequently / minnows  "
      ]
     },
     "execution_count": 13,
     "metadata": {},
     "output_type": "execute_result"
    }
   ],
   "source": [
    "rfm_table.head()"
   ]
  },
  {
   "cell_type": "code",
   "execution_count": 14,
   "id": "7f535391",
   "metadata": {},
   "outputs": [
    {
     "data": {
      "text/plain": [
       "84519.0"
      ]
     },
     "execution_count": 14,
     "metadata": {},
     "output_type": "execute_result"
    }
   ],
   "source": [
    "rfm_table['RecencySegment'].str.count('paid_long_ago').sum()"
   ]
  },
  {
   "cell_type": "markdown",
   "id": "4d92ef2c",
   "metadata": {},
   "source": [
    "### Display a table counting the number of users for each combination of RFM categories"
   ]
  },
  {
   "cell_type": "code",
   "execution_count": 15,
   "id": "ee04ade0",
   "metadata": {},
   "outputs": [],
   "source": [
    "rfm_count = pd.DataFrame(rfm_table['RFM'].value_counts())\n",
    "rfm_count.reset_index(inplace=True)\n",
    "rfm_count.columns = ['RFM', 'Count']"
   ]
  },
  {
   "cell_type": "code",
   "execution_count": 16,
   "id": "f99ac64e",
   "metadata": {
    "scrolled": false
   },
   "outputs": [
    {
     "data": {
      "text/html": [
       "<div>\n",
       "<style scoped>\n",
       "    .dataframe tbody tr th:only-of-type {\n",
       "        vertical-align: middle;\n",
       "    }\n",
       "\n",
       "    .dataframe tbody tr th {\n",
       "        vertical-align: top;\n",
       "    }\n",
       "\n",
       "    .dataframe thead th {\n",
       "        text-align: right;\n",
       "    }\n",
       "</style>\n",
       "<table border=\"1\" class=\"dataframe\">\n",
       "  <thead>\n",
       "    <tr style=\"text-align: right;\">\n",
       "      <th></th>\n",
       "      <th>RFM</th>\n",
       "      <th>Count</th>\n",
       "    </tr>\n",
       "  </thead>\n",
       "  <tbody>\n",
       "    <tr>\n",
       "      <th>0</th>\n",
       "      <td>paid_long_ago / pay_rarely / minnows</td>\n",
       "      <td>37131</td>\n",
       "    </tr>\n",
       "    <tr>\n",
       "      <th>1</th>\n",
       "      <td>paid_long_ago / pay_sometimes / minnows</td>\n",
       "      <td>30727</td>\n",
       "    </tr>\n",
       "    <tr>\n",
       "      <th>2</th>\n",
       "      <td>paid_long_ago / only_1_payment / minnows</td>\n",
       "      <td>6671</td>\n",
       "    </tr>\n",
       "    <tr>\n",
       "      <th>3</th>\n",
       "      <td>recently_paid / pay_sometimes / minnows</td>\n",
       "      <td>6289</td>\n",
       "    </tr>\n",
       "    <tr>\n",
       "      <th>4</th>\n",
       "      <td>recently_paid / pay_rarely / minnows</td>\n",
       "      <td>4605</td>\n",
       "    </tr>\n",
       "    <tr>\n",
       "      <th>5</th>\n",
       "      <td>paid_long_ago / pay_frequently / dolphins</td>\n",
       "      <td>3530</td>\n",
       "    </tr>\n",
       "    <tr>\n",
       "      <th>6</th>\n",
       "      <td>paid_long_ago / pay_sometimes / dolphins</td>\n",
       "      <td>2767</td>\n",
       "    </tr>\n",
       "    <tr>\n",
       "      <th>7</th>\n",
       "      <td>paid_a_while_ago / pay_sometimes / minnows</td>\n",
       "      <td>783</td>\n",
       "    </tr>\n",
       "    <tr>\n",
       "      <th>8</th>\n",
       "      <td>paid_long_ago / pay_frequently / minnows</td>\n",
       "      <td>759</td>\n",
       "    </tr>\n",
       "    <tr>\n",
       "      <th>9</th>\n",
       "      <td>paid_a_while_ago / pay_rarely / minnows</td>\n",
       "      <td>580</td>\n",
       "    </tr>\n",
       "    <tr>\n",
       "      <th>10</th>\n",
       "      <td>recently_paid / only_1_payment / minnows</td>\n",
       "      <td>374</td>\n",
       "    </tr>\n",
       "    <tr>\n",
       "      <th>11</th>\n",
       "      <td>recently_paid / pay_sometimes / dolphins</td>\n",
       "      <td>266</td>\n",
       "    </tr>\n",
       "    <tr>\n",
       "      <th>12</th>\n",
       "      <td>paid_long_ago / pay_rarely / dolphins</td>\n",
       "      <td>133</td>\n",
       "    </tr>\n",
       "    <tr>\n",
       "      <th>13</th>\n",
       "      <td>recently_paid / pay_frequently / dolphins</td>\n",
       "      <td>112</td>\n",
       "    </tr>\n",
       "    <tr>\n",
       "      <th>14</th>\n",
       "      <td>paid_a_while_ago / only_1_payment / minnows</td>\n",
       "      <td>64</td>\n",
       "    </tr>\n",
       "    <tr>\n",
       "      <th>15</th>\n",
       "      <td>paid_a_while_ago / pay_sometimes / dolphins</td>\n",
       "      <td>28</td>\n",
       "    </tr>\n",
       "    <tr>\n",
       "      <th>16</th>\n",
       "      <td>recently_paid / pay_rarely / dolphins</td>\n",
       "      <td>18</td>\n",
       "    </tr>\n",
       "    <tr>\n",
       "      <th>17</th>\n",
       "      <td>recently_paid / pay_frequently / minnows</td>\n",
       "      <td>17</td>\n",
       "    </tr>\n",
       "    <tr>\n",
       "      <th>18</th>\n",
       "      <td>paid_a_while_ago / pay_rarely / dolphins</td>\n",
       "      <td>2</td>\n",
       "    </tr>\n",
       "    <tr>\n",
       "      <th>19</th>\n",
       "      <td>recently_paid / only_1_payment / dolphins</td>\n",
       "      <td>1</td>\n",
       "    </tr>\n",
       "    <tr>\n",
       "      <th>20</th>\n",
       "      <td>paid_long_ago / only_1_payment / dolphins</td>\n",
       "      <td>1</td>\n",
       "    </tr>\n",
       "  </tbody>\n",
       "</table>\n",
       "</div>"
      ],
      "text/plain": [
       "                                            RFM  Count\n",
       "0          paid_long_ago / pay_rarely / minnows  37131\n",
       "1       paid_long_ago / pay_sometimes / minnows  30727\n",
       "2      paid_long_ago / only_1_payment / minnows   6671\n",
       "3       recently_paid / pay_sometimes / minnows   6289\n",
       "4          recently_paid / pay_rarely / minnows   4605\n",
       "5     paid_long_ago / pay_frequently / dolphins   3530\n",
       "6      paid_long_ago / pay_sometimes / dolphins   2767\n",
       "7    paid_a_while_ago / pay_sometimes / minnows    783\n",
       "8      paid_long_ago / pay_frequently / minnows    759\n",
       "9       paid_a_while_ago / pay_rarely / minnows    580\n",
       "10     recently_paid / only_1_payment / minnows    374\n",
       "11     recently_paid / pay_sometimes / dolphins    266\n",
       "12        paid_long_ago / pay_rarely / dolphins    133\n",
       "13    recently_paid / pay_frequently / dolphins    112\n",
       "14  paid_a_while_ago / only_1_payment / minnows     64\n",
       "15  paid_a_while_ago / pay_sometimes / dolphins     28\n",
       "16        recently_paid / pay_rarely / dolphins     18\n",
       "17     recently_paid / pay_frequently / minnows     17\n",
       "18     paid_a_while_ago / pay_rarely / dolphins      2\n",
       "19    recently_paid / only_1_payment / dolphins      1\n",
       "20    paid_long_ago / only_1_payment / dolphins      1"
      ]
     },
     "execution_count": 16,
     "metadata": {},
     "output_type": "execute_result"
    }
   ],
   "source": [
    "rfm_count"
   ]
  },
  {
   "cell_type": "code",
   "execution_count": 17,
   "id": "9ac06bcc",
   "metadata": {},
   "outputs": [],
   "source": [
    "total_count = rfm_count['Count'].sum()\n",
    "rfm_count['Percentage'] = (rfm_count['Count'] / total_count) * 100"
   ]
  },
  {
   "cell_type": "code",
   "execution_count": 18,
   "id": "fbff0dce",
   "metadata": {
    "scrolled": false
   },
   "outputs": [
    {
     "data": {
      "text/html": [
       "<div>\n",
       "<style scoped>\n",
       "    .dataframe tbody tr th:only-of-type {\n",
       "        vertical-align: middle;\n",
       "    }\n",
       "\n",
       "    .dataframe tbody tr th {\n",
       "        vertical-align: top;\n",
       "    }\n",
       "\n",
       "    .dataframe thead th {\n",
       "        text-align: right;\n",
       "    }\n",
       "</style>\n",
       "<table border=\"1\" class=\"dataframe\">\n",
       "  <thead>\n",
       "    <tr style=\"text-align: right;\">\n",
       "      <th></th>\n",
       "      <th>RFM</th>\n",
       "      <th>Count</th>\n",
       "      <th>Percentage</th>\n",
       "    </tr>\n",
       "  </thead>\n",
       "  <tbody>\n",
       "    <tr>\n",
       "      <th>0</th>\n",
       "      <td>paid_long_ago / pay_rarely / minnows</td>\n",
       "      <td>37131</td>\n",
       "      <td>39.143773</td>\n",
       "    </tr>\n",
       "    <tr>\n",
       "      <th>1</th>\n",
       "      <td>paid_long_ago / pay_sometimes / minnows</td>\n",
       "      <td>30727</td>\n",
       "      <td>32.392629</td>\n",
       "    </tr>\n",
       "    <tr>\n",
       "      <th>2</th>\n",
       "      <td>paid_long_ago / only_1_payment / minnows</td>\n",
       "      <td>6671</td>\n",
       "      <td>7.032617</td>\n",
       "    </tr>\n",
       "    <tr>\n",
       "      <th>3</th>\n",
       "      <td>recently_paid / pay_sometimes / minnows</td>\n",
       "      <td>6289</td>\n",
       "      <td>6.629910</td>\n",
       "    </tr>\n",
       "    <tr>\n",
       "      <th>4</th>\n",
       "      <td>recently_paid / pay_rarely / minnows</td>\n",
       "      <td>4605</td>\n",
       "      <td>4.854625</td>\n",
       "    </tr>\n",
       "    <tr>\n",
       "      <th>5</th>\n",
       "      <td>paid_long_ago / pay_frequently / dolphins</td>\n",
       "      <td>3530</td>\n",
       "      <td>3.721352</td>\n",
       "    </tr>\n",
       "    <tr>\n",
       "      <th>6</th>\n",
       "      <td>paid_long_ago / pay_sometimes / dolphins</td>\n",
       "      <td>2767</td>\n",
       "      <td>2.916992</td>\n",
       "    </tr>\n",
       "    <tr>\n",
       "      <th>7</th>\n",
       "      <td>paid_a_while_ago / pay_sometimes / minnows</td>\n",
       "      <td>783</td>\n",
       "      <td>0.825444</td>\n",
       "    </tr>\n",
       "    <tr>\n",
       "      <th>8</th>\n",
       "      <td>paid_long_ago / pay_frequently / minnows</td>\n",
       "      <td>759</td>\n",
       "      <td>0.800143</td>\n",
       "    </tr>\n",
       "    <tr>\n",
       "      <th>9</th>\n",
       "      <td>paid_a_while_ago / pay_rarely / minnows</td>\n",
       "      <td>580</td>\n",
       "      <td>0.611440</td>\n",
       "    </tr>\n",
       "    <tr>\n",
       "      <th>10</th>\n",
       "      <td>recently_paid / only_1_payment / minnows</td>\n",
       "      <td>374</td>\n",
       "      <td>0.394274</td>\n",
       "    </tr>\n",
       "    <tr>\n",
       "      <th>11</th>\n",
       "      <td>recently_paid / pay_sometimes / dolphins</td>\n",
       "      <td>266</td>\n",
       "      <td>0.280419</td>\n",
       "    </tr>\n",
       "    <tr>\n",
       "      <th>12</th>\n",
       "      <td>paid_long_ago / pay_rarely / dolphins</td>\n",
       "      <td>133</td>\n",
       "      <td>0.140210</td>\n",
       "    </tr>\n",
       "    <tr>\n",
       "      <th>13</th>\n",
       "      <td>recently_paid / pay_frequently / dolphins</td>\n",
       "      <td>112</td>\n",
       "      <td>0.118071</td>\n",
       "    </tr>\n",
       "    <tr>\n",
       "      <th>14</th>\n",
       "      <td>paid_a_while_ago / only_1_payment / minnows</td>\n",
       "      <td>64</td>\n",
       "      <td>0.067469</td>\n",
       "    </tr>\n",
       "    <tr>\n",
       "      <th>15</th>\n",
       "      <td>paid_a_while_ago / pay_sometimes / dolphins</td>\n",
       "      <td>28</td>\n",
       "      <td>0.029518</td>\n",
       "    </tr>\n",
       "    <tr>\n",
       "      <th>16</th>\n",
       "      <td>recently_paid / pay_rarely / dolphins</td>\n",
       "      <td>18</td>\n",
       "      <td>0.018976</td>\n",
       "    </tr>\n",
       "    <tr>\n",
       "      <th>17</th>\n",
       "      <td>recently_paid / pay_frequently / minnows</td>\n",
       "      <td>17</td>\n",
       "      <td>0.017922</td>\n",
       "    </tr>\n",
       "    <tr>\n",
       "      <th>18</th>\n",
       "      <td>paid_a_while_ago / pay_rarely / dolphins</td>\n",
       "      <td>2</td>\n",
       "      <td>0.002108</td>\n",
       "    </tr>\n",
       "    <tr>\n",
       "      <th>19</th>\n",
       "      <td>recently_paid / only_1_payment / dolphins</td>\n",
       "      <td>1</td>\n",
       "      <td>0.001054</td>\n",
       "    </tr>\n",
       "    <tr>\n",
       "      <th>20</th>\n",
       "      <td>paid_long_ago / only_1_payment / dolphins</td>\n",
       "      <td>1</td>\n",
       "      <td>0.001054</td>\n",
       "    </tr>\n",
       "  </tbody>\n",
       "</table>\n",
       "</div>"
      ],
      "text/plain": [
       "                                            RFM  Count  Percentage\n",
       "0          paid_long_ago / pay_rarely / minnows  37131   39.143773\n",
       "1       paid_long_ago / pay_sometimes / minnows  30727   32.392629\n",
       "2      paid_long_ago / only_1_payment / minnows   6671    7.032617\n",
       "3       recently_paid / pay_sometimes / minnows   6289    6.629910\n",
       "4          recently_paid / pay_rarely / minnows   4605    4.854625\n",
       "5     paid_long_ago / pay_frequently / dolphins   3530    3.721352\n",
       "6      paid_long_ago / pay_sometimes / dolphins   2767    2.916992\n",
       "7    paid_a_while_ago / pay_sometimes / minnows    783    0.825444\n",
       "8      paid_long_ago / pay_frequently / minnows    759    0.800143\n",
       "9       paid_a_while_ago / pay_rarely / minnows    580    0.611440\n",
       "10     recently_paid / only_1_payment / minnows    374    0.394274\n",
       "11     recently_paid / pay_sometimes / dolphins    266    0.280419\n",
       "12        paid_long_ago / pay_rarely / dolphins    133    0.140210\n",
       "13    recently_paid / pay_frequently / dolphins    112    0.118071\n",
       "14  paid_a_while_ago / only_1_payment / minnows     64    0.067469\n",
       "15  paid_a_while_ago / pay_sometimes / dolphins     28    0.029518\n",
       "16        recently_paid / pay_rarely / dolphins     18    0.018976\n",
       "17     recently_paid / pay_frequently / minnows     17    0.017922\n",
       "18     paid_a_while_ago / pay_rarely / dolphins      2    0.002108\n",
       "19    recently_paid / only_1_payment / dolphins      1    0.001054\n",
       "20    paid_long_ago / only_1_payment / dolphins      1    0.001054"
      ]
     },
     "execution_count": 18,
     "metadata": {},
     "output_type": "execute_result"
    }
   ],
   "source": [
    "rfm_count"
   ]
  },
  {
   "cell_type": "markdown",
   "id": "0fbdb542",
   "metadata": {},
   "source": [
    "### Conclusion"
   ]
  },
  {
   "cell_type": "markdown",
   "id": "526f045a",
   "metadata": {},
   "source": [
    "Based on the analysis data, the following conclusions and suggestions can be made:\n",
    "\n",
    "The majority of customers (71.57%) have not made purchases for a long time or rarely make them. It is necessary to develop loyalty and motivation programs to increase the activity of these customers.\n",
    "\n",
    "4.85% of customers rarely make purchases but have recently made a payment. They need to be retained and encouraged to make repeat purchases.\n",
    "\n",
    "7.03% of customers have made only one payment and are not active. You need to contact them and find out the reasons for the lack of activity.\n",
    "\n",
    "Customers who make regular purchases and are active are the most valuable to a business and should be the target audience for retention efforts.\n",
    "\n",
    "Customers who shop frequently and infrequently may require additional marketing efforts to encourage repeat purchases and retention.\n",
    "\n",
    "Customers who are recent and active purchasers may require additional efforts to retain and encourage repeat purchases.\n",
    "\n",
    "A small percentage of customers (0.12%) shop frequently and are high payers, which is the most valuable segment for the business.\n",
    "\n",
    "A small number of customers (0.02%) shop infrequently and are large payers, which may require additional efforts to stimulate their activity.\n",
    "\n",
    "Based on these findings, it is proposed to develop an individual strategy for working with each customer segment, which will be aimed at increasing the number of repeat purchases, retaining customers and maximizing profits."
   ]
  },
  {
   "cell_type": "markdown",
   "id": "e77b59de",
   "metadata": {},
   "source": [
    "### Task 2 (Methodological)"
   ]
  },
  {
   "cell_type": "markdown",
   "id": "3715b7e2",
   "metadata": {},
   "source": [
    "Since February 5, there has been a decrease in Retention 1.3d indicators for all users by 2 percentage points. (for other periods Retention also fell).\n",
    "#### Goal: determine the reasons for the drop in Retention. Develop a set of recommendations to solve the problem.\n",
    "\n",
    "What does a good solution look like?\n",
    "1. Formulate valuable hypotheses\n",
    "2. Test hypotheses\n",
    "3. Describe in the form of diagrams the process of testing hypotheses, possible test results and subsequent actions based on the results obtained."
   ]
  },
  {
   "cell_type": "markdown",
   "id": "8493bbd4",
   "metadata": {},
   "source": [
    "### Formulation of hypotheses"
   ]
  },
  {
   "cell_type": "markdown",
   "id": "4d07989e",
   "metadata": {},
   "source": [
    "1. **Game Balance Issues**: If players feel like the game is unfair and doesn't give them a chance to win, they may quickly lose interest and leave the app.\n",
    "2. **Performance Issues**: If an app becomes slow or unstable, it can cause Retention to drop as users may experience issues that prevent them from playing.\n",
    "3. **Not interesting enough content**: It is possible that the content in the app has become less interesting or varied, causing users to stop playing.\n",
    "4. **Seasonality**: a decrease in Retention may be due to changes in seasonal factors, for example, vacation periods or national holidays.\n",
    "5. **Insufficient Motivation**: If users do not receive enough motivation to continue playing (such as rewards and achievements), this can reduce Retention.\n",
    "6. **Strong Competition**: If there are other games in the app that offer more interesting or varied gameplay, this can turn off users and reduce Retention."
   ]
  },
  {
   "cell_type": "markdown",
   "id": "a1c7e89b",
   "metadata": {},
   "source": [
    "### Testing hypotheses"
   ]
  },
  {
   "cell_type": "markdown",
   "id": "19a65f52",
   "metadata": {},
   "source": [
    "1. **Game Balance Issues**: To assess game balance, you can analyze game data such as win-loss statistics, difficulty level, and the average time players spend in the game. You can also conduct A/B testing to compare different versions of the game and determine what changes affect Retention. For this hypothesis, you can use metrics such as the number of players completing levels, the number of attempts to complete each level, the average time to complete levels, etc.\n",
    "2. **Game Performance Issues**: You can analyze the logs and collected application metrics to identify possible errors and performance issues. You can also conduct A/B testing to compare the app's performance on different devices and operating systems.\n",
    "3. **Insufficiently interesting content**: to test the hypothesis about insufficiently interesting content, you can use the following metrics: average time that users spend in the game, ratio of the number of users, Engagement rate (ratio of the number of users interacting with the content to the total number of users ), Retention rate (the percentage of users who remain active after viewing content), comparing the behavior of users who make in-app purchases and those who do not. If users who make purchases spend more time in the app and use more features, this may indicate that they are enjoying the content.\n",
    "4. **Seasonality**: compare Retention with data from previous years and identify whether there is seasonality in user behavior. If so, measures must be developed to retain users during seasonal periods. You can use the following metrics: number of app downloads: you can compare the number of app downloads in different time periods to find out if there are any seasonal changes, number of active users, number of sessions: you can compare the number of sessions in different time periods to find out if there are Are there any seasonal changes? For example, if the number of sessions decreases during the holidays, this could indicate seasonality in the number of in-app purchases: A similar comparison can be made for the number of in-app purchases across different time periods. If the number of purchases increases significantly during any period, this may indicate seasonality.\n",
    "5. **Lack of motivation**: For this hypothesis, you can use metrics such as number of sessions, time spent in the application, number of levels completed, amount of money spent on in-app purchases, etc. You can conduct a user survey to find out which app features and functionality provide the most value and what you can do to improve them.\n",
    "6. **Strong competition**: To assess the competitive situation, you can conduct an analysis of the mobile games market. You can also survey users to find out which competing games they prefer and why. To compare Retention, you can conduct A/B testing to evaluate the effects of introducing new features and changes to the game. You can use metrics such as number of app downloads, number of active users, time spent by users in the app, etc."
   ]
  },
  {
   "cell_type": "markdown",
   "id": "018c7c37",
   "metadata": {},
   "source": [
    "### Describe in the form of diagrams the process of testing hypotheses"
   ]
  },
  {
   "cell_type": "markdown",
   "id": "470039dd",
   "metadata": {},
   "source": [
    "1. Formulate hypotheses based on the supposed reasons for the decline in Retention.\n",
    "\n",
    "2. Identify metrics that can confirm or refute the hypotheses.\n",
    "\n",
    "3. Collect data on selected metrics for the periods before and after the drop in Retention.\n",
    "\n",
    "4. Analyze the data and run statistical tests to determine how significantly the metrics have changed.\n",
    "\n",
    "5. For each hypothesis, make a decision based on the test results:\n",
    "     - If the hypothesis is confirmed, take measures to solve it.\n",
    "     - If the hypothesis is rejected, investigate further to find other possible reasons for the drop in Retention.\n",
    "     - If the results are ambiguous, conduct additional research.\n",
    "    \n",
    "6. Develop a set of measures to eliminate the identified problems and test these measures.\n",
    "\n",
    "7. Evaluate the effectiveness of the measures taken and continue to monitor metrics to detect additional problems."
   ]
  },
  {
   "cell_type": "markdown",
   "id": "025352c6",
   "metadata": {},
   "source": [
    "## Task 3 (Methodological)"
   ]
  },
  {
   "cell_type": "markdown",
   "id": "53d6d35c",
   "metadata": {},
   "source": [
    "Today is February 18th. Since January 1, there has been a decrease in the Revenue indicator for the MTQ product.\n",
    "#### Goal: determine the reasons for the fall in Revenue. Develop a set of recommendations to solve the problem."
   ]
  },
  {
   "cell_type": "markdown",
   "id": "7ade9d63",
   "metadata": {},
   "source": [
    "What does a good solution look like?\n",
    "1. Formulate valuable hypotheses\n",
    "2. Test hypotheses\n",
    "3. Describe in the form of diagrams the process of testing hypotheses, possible test results and subsequent actions based on the results obtained."
   ]
  },
  {
   "cell_type": "markdown",
   "id": "2dd1feaf",
   "metadata": {},
   "source": [
    "### Formulation of hypotheses"
   ]
  },
  {
   "cell_type": "markdown",
   "id": "a12c96d4",
   "metadata": {},
   "source": [
    "1. **Decreased Demand**: It is possible that demand for the MTQ product has decreased, resulting in fewer sales and lower overall revenue.\n",
    "2. **Competition**: It is possible that other companies have offered more attractive alternatives, causing customers to switch to other products.\n",
    "3. **Price Change**: It is possible that the price of the MTQ product has been changed, resulting in a decrease in sales and therefore a decrease in revenue.\n",
    "4. **Change in Pricing**: The company may have reduced prices for the MTQ product, resulting in a decrease in overall revenue, even if the number of sales remained the same.\n",
    "5. **Seasonality**: It is possible that the demand for the MTQ product depends on the time of year, and the decrease in revenue was caused by a seasonal decline.\n",
    "6. **Advertising Campaigns**: It is possible that advertising campaigns for the MTQ product have been reduced, resulting in decreased interest in the product and therefore decreased revenue."
   ]
  },
  {
   "cell_type": "markdown",
   "id": "b6806f1c",
   "metadata": {},
   "source": [
    "### Testing hypotheses"
   ]
  },
  {
   "cell_type": "markdown",
   "id": "dd5adcab",
   "metadata": {},
   "source": [
    "1. **Decrease in demand**: You can test this hypothesis by analyzing the number of sales of the MTQ product during the period, comparing it with past periods. You can also analyze the number of searches for an MTQ product on the company's website or other online platforms to determine whether the number of users interested in the product has changed. Metrics: number of sales of the MTQ product, number of visitors on the site, time spent on the site, share of the MTQ product in the company’s total sales.\n",
    "2. **Competition**: You can analyze the market share of MTQ's product and competitors, and also examine changes in sales of competitors over the same period of time. You can also analyze customer reviews of the MTQ product and its competitors to understand which products are most popular with customers. Metrics: competitor ratings in customer reviews, average price of MTQ product compared to competitors, number of new competitors, number of returning customers.\n",
    "3. **Price Change**: You can analyze the price changes of the MTQ product and its competitors over the period. You can also compare sales mix and revenue before and after the price change to determine how demand has changed. Metrics: change in the average price of an MTQ product, change in the number of sales after a price change, change in the share of sales of an MTQ product in the company's total sales.\n",
    "\n",
    "4. **Pricing Policy Changes**: You can analyze changes in the company's pricing policy, including changes in the prices of other products, which may affect sales of the MTQ product. You can also analyze the sales mix and revenue for the MTQ product and other company products to understand how changes in pricing policy affected revenue. Metrics: change in the average price of an MTQ product, change in the share of sales of an MTQ product in the company’s total sales, number of sales of an MTQ product before and after changing the pricing policy.\n",
    "\n",
    "5. **Seasonality**: You can analyze historical MTQ product revenue data and compare it to current period revenue to determine if the revenue decline was due to seasonal declines. Metrics: number of sales of MTQ product by month, number of visitors to the site by month, assessment of customer needs in different seasons.\n",
    "\n",
    "6. **Advertising Campaigns**: You can analyze the volume of advertising campaigns for the MTQ product and compare them with previous periods. You can also analyze the number of clicks to the company's website and to the MTQ product page to determine how the volume of advertising campaigns affects the number of users interested in the product. Metrics: number of clicks on advertisements, conversion of advertisements to MTQ product sales, advertising costs compared to total MTQ product sales."
   ]
  },
  {
   "cell_type": "markdown",
   "id": "0c4493a4",
   "metadata": {},
   "source": [
    "### Describe in the form of diagrams the process of testing hypotheses"
   ]
  },
  {
   "cell_type": "markdown",
   "id": "4786782a",
   "metadata": {},
   "source": [
    "1. **Data Collection**: It is necessary to collect sales data for the MTQ product, including the number of sales and revenue for the period from January 1 to the current date.\n",
    "2. **Testing Hypotheses**: After collecting data, it is necessary to test each of the hypotheses. This can be done using statistical methods such as analysis of variance, regression analysis or hypothesis testing. As a result of testing each hypothesis, one of three possible results can be obtained: confirmation, refutation, or uncertainty.\n",
    "3. **Analysis of results**: based on the results of testing each hypothesis, conclusions can be drawn about the reasons for the decline in revenue. If the hypothesis is confirmed, then it is necessary to determine measures to eliminate its negative impact. If the hypothesis is rejected, then it is necessary to continue searching for the reasons for the decrease in revenue. If the results of the audit are uncertain, then additional research must be conducted to determine the reasons for the decrease in revenue.\n",
    "4. **Development of an action plan**: Based on the analysis of the results, an action plan can be developed aimed at increasing the revenue of the MTQ product. The plan may include measures to improve product quality, increase marketing efforts, or change pricing policies.\n",
    "5. **Implementing the Action Plan**: Once the action plan is developed, it is necessary to implement it. At the same time, it is necessary to monitor changes in sales of the MTQ product and evaluate the effectiveness of the measures implemented. If sales of the MTQ product begin to increase, then the action plan can be considered successful. If sales of the MTQ product continue to decline, then it is necessary to analyze the results of the implementation of the action plan and make adjustments."
   ]
  }
 ],
 "metadata": {
  "kernelspec": {
   "display_name": "Python 3",
   "language": "python",
   "name": "python3"
  },
  "language_info": {
   "codemirror_mode": {
    "name": "ipython",
    "version": 3
   },
   "file_extension": ".py",
   "mimetype": "text/x-python",
   "name": "python",
   "nbconvert_exporter": "python",
   "pygments_lexer": "ipython3",
   "version": "3.8.8"
  }
 },
 "nbformat": 4,
 "nbformat_minor": 5
}
